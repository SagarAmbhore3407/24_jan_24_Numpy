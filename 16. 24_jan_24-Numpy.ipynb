{
 "cells": [
  {
   "cell_type": "code",
   "execution_count": null,
   "id": "1d05ed30-fdc8-42ae-a789-887c828f3355",
   "metadata": {},
   "outputs": [],
   "source": [
    "#1. What is a Python library? Why do we use Python libraries?\n",
    "\n",
    "'''\n",
    "    -Python Libraries:\n",
    "    - Python libraries is a collection of prewritten code and functions that can be imported to use in our python programme.\n",
    "    - Python Libraries are set functions of classes which contains some special operations functions for a specific concept like visualisation, \n",
    "       chatting, scrapping,data manipulation, scientific computing, machine learning, etc.\n",
    "    - So for every concept python has specific package, and by using the functions of that package that specific operation can be performed.\n",
    "      like NumPy for numerical computing, pandas for data analysis, Matplotlib for data visualization, etc.\n",
    "    - Python has vast collection of packages.\n",
    "    - And the packages is a class of set of functions.\n",
    "    - This packages addon some extra functionalities to a a basic python language.\n",
    "    - So to use these packages, we simply have to import that packages in our main programme.\n",
    "       e.g. import numpy.\n",
    "    - So these packages are very simple and convinient and user friendly to use in our peogramme. Developers doesnt need to code for a specific task\n",
    "      where the python libraries allows developers to use a prewritten and tested code.\n",
    "      Which increase the speed of developement process.\n",
    "    - These libraries are open source due to which the developers doesnt hesitate to use it.\n",
    "    \n",
    "\n",
    "'''\n"
   ]
  },
  {
   "cell_type": "code",
   "execution_count": null,
   "id": "948c1bfb-281c-457f-a731-2d4d38004857",
   "metadata": {},
   "outputs": [],
   "source": [
    "# 2. What is the difference between Numpy array and List?\n",
    "\n",
    "'''\n",
    "   Numpy Array:\n",
    "   \n",
    "   - The array is a collection of a homogenious elements. Which contains only one type of values.\n",
    "   - The array is a always a one dimensional array but the Numpy array is a set of multiple arrays.\n",
    "     So thats why the numpy array always has more than one dimensions. means minimum it can have 2 dimension.\n",
    "   - So the numpy array is also considered as a matrix.\n",
    "   - The numpy array is a mutable.\n",
    "   - As it is homoenious, Numpy array is more memory efficient and faster than list for numerical operation.\n",
    "   - NumPy arrays have a more compact internal representation compared to lists.\n",
    "   - NumPy provides a wide range of mathematical functions and operations that can be applied \n",
    "     directly to arrays, making it convenient for numerical computing.\n",
    "   \n",
    "   \n",
    "   \n",
    "   List:\n",
    "   \n",
    "   - The list is a collection of non homogenious or heterogenious collection of element.\n",
    "     Which can contain any type of value.\n",
    "   - And the list is always in one dimensional.\n",
    "   - The list is Mutable\n",
    "   - The list is also considered as a array depending opon situation and values enclosed in it.\n",
    "   - List is less optimized and can be slower for large scale numerical operations.\n",
    "   - Lists have more memory overhead due to their flexible and dynamic nature.\n",
    "   - Lists offer a more general set of functionalities, as they are not specialized \n",
    "     for numerical operations. However, Python provides various built-in functions and libraries that can be used with lists.\n",
    "\n",
    "'''\n",
    "\n",
    "\n",
    "\n",
    "\n",
    "\n",
    "\n",
    "\n",
    "\n"
   ]
  },
  {
   "cell_type": "code",
   "execution_count": 3,
   "id": "9c5fd72e-07ff-4575-8e09-0ece1daca5b8",
   "metadata": {},
   "outputs": [
    {
     "name": "stdout",
     "output_type": "stream",
     "text": [
      "Shape =  (3, 4)\n",
      "Size =  12\n"
     ]
    }
   ],
   "source": [
    "#3. Find the shape, size and dimension of the following array?\n",
    "''' \n",
    "[[1, 2, 3, 4],\n",
    " [5, 6, 7, 8],\n",
    " [9, 10, 11, 12]]'''\n",
    "\n",
    "\n",
    "import numpy as np\n",
    "\n",
    "a = [[1, 2, 3, 4],\n",
    "     [5, 6, 7, 8],\n",
    "     [9, 10, 11, 12]]\n",
    "\n",
    "print(\"Shape = \",np.shape(a))\n",
    "print(\"Size = \",np.size(a))"
   ]
  },
  {
   "cell_type": "code",
   "execution_count": 4,
   "id": "b8dc09ea-7b4c-4d8d-8b02-3e4684da458d",
   "metadata": {},
   "outputs": [
    {
     "name": "stdout",
     "output_type": "stream",
     "text": [
      "[1, 2, 3, 4]\n"
     ]
    }
   ],
   "source": [
    "# 4. Write python code to access the first row of the following array?\n",
    "''' \n",
    "[[1, 2, 3, 4],\n",
    " [5, 6, 7, 8],\n",
    " [9, 10, 11, 12]]'''\n",
    "\n",
    "\n",
    "import numpy as np\n",
    "\n",
    "b = [[1, 2, 3, 4],\n",
    "     [5, 6, 7, 8],\n",
    "     [9, 10, 11, 12]]\n",
    "\n",
    "print(b[0])"
   ]
  },
  {
   "cell_type": "code",
   "execution_count": 12,
   "id": "3485dd7c-f2d8-4fc1-a2c6-725f87816ec1",
   "metadata": {},
   "outputs": [
    {
     "name": "stdout",
     "output_type": "stream",
     "text": [
      "12\n"
     ]
    }
   ],
   "source": [
    "# 5. How do you access the element at the third row and fourth column from the given numpy array?\n",
    "\n",
    "''' \n",
    "[[1, 2, 3, 4],\n",
    " [5, 6, 7, 8],\n",
    " [9, 10, 11, 12]]'''\n",
    "\n",
    "#use the row index in sqr braces and anpther square breaces use column index.\n",
    "\n",
    "\n",
    "\n",
    "import numpy as np\n",
    "\n",
    "c = [[1, 2, 3, 4],\n",
    "     [5, 6, 7, 8],\n",
    "     [9, 10, 11, 12]]\n",
    "\n",
    "print(c[2][3])\n",
    "\n",
    "\n",
    "\n"
   ]
  },
  {
   "cell_type": "code",
   "execution_count": 1,
   "id": "44bf66f3-3cb0-43c3-b821-0329f3950bdd",
   "metadata": {},
   "outputs": [
    {
     "name": "stdout",
     "output_type": "stream",
     "text": [
      "[6, 8]\n"
     ]
    }
   ],
   "source": [
    "#6. Write code to extract all odd-indexed elements from the given numpy array?\n",
    "''' \n",
    "[[1, 2, 3, 4],\n",
    " [5, 6, 7, 8],\n",
    " [9, 10, 11, 12]]'''\n",
    "\n",
    "\n",
    "\n",
    "import numpy as np\n",
    "\n",
    "d = [[1, 2, 3, 4],\n",
    "     [5, 6, 7, 8],\n",
    "     [9, 10, 11, 12]]\n",
    "\n",
    "oddIndexedElement = []\n",
    "\n",
    "for i in range(len(d)):\n",
    "    for j in range(len(d[i])):\n",
    "        if (i%2!=0) and (j%2!=0):\n",
    "            oddIndexedElement.append(d[i][j])\n",
    "            \n",
    "            \n",
    "print(oddIndexedElement)            \n",
    "# This returns the odd row and odd column values.            \n",
    "    \n",
    "\n",
    "\n",
    "\n"
   ]
  },
  {
   "cell_type": "code",
   "execution_count": 4,
   "id": "61b284a5-8995-4637-8b0a-f7c0d56baa04",
   "metadata": {},
   "outputs": [
    {
     "name": "stdout",
     "output_type": "stream",
     "text": [
      "[[0.49164663 0.938999   0.66954288]\n",
      " [0.88583336 0.2784492  0.52608854]\n",
      " [0.24568991 0.93097504 0.58487539]]\n"
     ]
    }
   ],
   "source": [
    "#7. How can you generate a random 3x3 matrix with values between 0 and 1?\n",
    "\n",
    "\n",
    "import numpy as np\n",
    "\n",
    "e = np.random.rand(3,3)\n",
    "print(e)\n",
    "\n",
    "\n"
   ]
  },
  {
   "cell_type": "code",
   "execution_count": 12,
   "id": "c27a4f33-681c-4710-a89e-55666b392476",
   "metadata": {},
   "outputs": [
    {
     "name": "stdout",
     "output_type": "stream",
     "text": [
      "[[0.49557308 0.12420487 0.65793334 0.82391431]\n",
      " [0.83383507 0.44691067 0.98718565 0.46874649]\n",
      " [0.94471986 0.51170955 0.39879884 0.63638633]] \n",
      "\n",
      "[[-0.46641447  0.37868953  2.09091388  0.38824534]\n",
      " [ 0.48384893 -0.94444006 -0.3145618   0.19815582]\n",
      " [ 1.68783414  0.78059269  0.7853824  -1.98199085]\n",
      " [-0.25920872 -2.23970466 -0.74394677  0.15746553]\n",
      " [-0.21565993  0.08106081 -0.47361574  0.29744486]]\n"
     ]
    }
   ],
   "source": [
    "#8. Describe the difference between np.random.rand and np.random.randn?\n",
    "\n",
    "'''\n",
    "    random.rand():\n",
    "    \n",
    "    - This function generates a random values from a uniform distrubution in a  half open interval \n",
    "      [0.0,1.0]\n",
    "    - The values will be floates which will be uniformly distributed 0 and 1.\n",
    "    - This function generates a random values between 0 and 1. in a form of given shape\n",
    "    \n",
    "    \n",
    "    random.randn():\n",
    "    \n",
    "    - This function generates a random numbers from standard normal distribution with mean=0 and deviation=1,\n",
    "    - The returned values are floats that follow a normal (Gaussian) distribution with a mean of 0 and a standard deviation of 1.\n",
    "    - This function generates an array of the specified shape with random values following a standard normal distribution.\n",
    "      \n",
    "      \n",
    "'''\n",
    "import numpy as np\n",
    "\n",
    "e = np.random.rand(3,4)\n",
    "print(e,\"\\n\")\n",
    "\n",
    "f = np.random.randn(5,4)\n",
    "print(f)\n",
    "\n"
   ]
  },
  {
   "cell_type": "code",
   "execution_count": 22,
   "id": "78404f23-acb3-4279-9492-28c384e48e73",
   "metadata": {},
   "outputs": [
    {
     "name": "stdout",
     "output_type": "stream",
     "text": [
      "(3, 4)\n",
      "(1, 3, 4)\n",
      "(3, 1, 4)\n"
     ]
    }
   ],
   "source": [
    "#9. Write code to increase the dimension of the following array?\n",
    "''' \n",
    "[[1, 2, 3, 4],\n",
    " [5, 6, 7, 8],\n",
    " [9, 10, 11, 12]]'''\n",
    "\n",
    "\n",
    "import numpy as np\n",
    "\n",
    "g = [[1, 2, 3, 4],\n",
    "     [5, 6, 7, 8],\n",
    "     [9, 10, 11, 12]]\n",
    "\n",
    "print(np.shape(g)) # Before\n",
    "\n",
    "# Increasing the dimension of row\n",
    "\n",
    "h = np.expand_dims(g,axis=0) #Increasing the row dimension\n",
    "\n",
    "print(np.shape(h)) \n",
    "\n",
    "j = np.expand_dims(g,axis = 1)\n",
    "print(np.shape(j))\n"
   ]
  },
  {
   "cell_type": "code",
   "execution_count": 26,
   "id": "2f3519e2-b73f-4c83-80c2-75b555fda95e",
   "metadata": {},
   "outputs": [
    {
     "data": {
      "text/plain": [
       "array([[[ 1],\n",
       "        [ 5],\n",
       "        [ 9]],\n",
       "\n",
       "       [[ 2],\n",
       "        [ 6],\n",
       "        [10]],\n",
       "\n",
       "       [[ 3],\n",
       "        [ 7],\n",
       "        [11]],\n",
       "\n",
       "       [[ 4],\n",
       "        [ 8],\n",
       "        [12]]])"
      ]
     },
     "execution_count": 26,
     "metadata": {},
     "output_type": "execute_result"
    }
   ],
   "source": [
    "#10. How to transpose the following array in NumPy?\n",
    "''' \n",
    "[[1, 2, 3, 4],\n",
    " [5, 6, 7, 8],\n",
    " [9, 10, 11, 12]]'''\n",
    "\n",
    "\n",
    "import numpy as np\n",
    "\n",
    "k = [[1, 2, 3, 4],\n",
    "     [5, 6, 7, 8],\n",
    "     [9, 10, 11, 12]]\n",
    "\n",
    "k = np.expand_dims(k,axis=0)\n",
    "k.T\n"
   ]
  },
  {
   "cell_type": "code",
   "execution_count": 49,
   "id": "76d15c2d-ce7b-4018-b9b6-a62cb04fc943",
   "metadata": {},
   "outputs": [
    {
     "name": "stdout",
     "output_type": "stream",
     "text": [
      "Matrix_A: \n",
      " [[ 1  2  3  4]\n",
      " [ 5  6  7  8]\n",
      " [ 9 10 11 12]] \n",
      "\n",
      "Matrix_B: \n",
      " [[ 1  2  3  4]\n",
      " [ 5  6  7  8]\n",
      " [ 9 10 11 12]]\n",
      "\n",
      "Multiplication by indexed : \n",
      " [[  1   4   9  16]\n",
      " [ 25  36  49  64]\n",
      " [ 81 100 121 144]]\n",
      "\n",
      "sqrmatrix_1: \n",
      " [[ 1  2  3]\n",
      " [ 5  6  7]\n",
      " [ 9 10 11]] \n",
      "\n",
      "sqrmatrix_2: \n",
      " [[ 1  2  3]\n",
      " [ 5  6  7]\n",
      " [ 9 10 11]]\n",
      "\n",
      "Matrix Multiplication matrix : \n",
      " [[ 38  44  50]\n",
      " [ 98 116 134]\n",
      " [158 188 218]]\n",
      "\n",
      "Addition matrix : \n",
      " [[ 2  4  6  8]\n",
      " [10 12 14 16]\n",
      " [18 20 22 24]]\n",
      "\n",
      "Substraction matrix : \n",
      " [[0 0 0 0]\n",
      " [0 0 0 0]\n",
      " [0 0 0 0]]\n",
      "\n",
      "Dividation matrix : \n",
      " [[1. 1. 1. 1.]\n",
      " [1. 1. 1. 1.]\n",
      " [1. 1. 1. 1.]]\n"
     ]
    }
   ],
   "source": [
    "# 11. Consider the following matrix:\n",
    "#   Matrix A: [[1, 2, 3, 4] [5, 6, 7, 8],[9, 10, 11, 12]]\n",
    "#   Matrix B: [[1, 2, 3, 4] [5, 6, 7, 8],[9, 10, 11, 12]]\n",
    "\n",
    "#Perform the following operation using Python.\n",
    "\n",
    "#1.Index wise multiplication.\n",
    "#2.Matrix multiplication.\n",
    "#3.Add both the matric\n",
    "#4.Subtract matrix B from A\n",
    "#5.Divide Matrix B by A.\n",
    "\n",
    "import numpy as np\n",
    "\n",
    "a = [[1, 2, 3, 4],\n",
    "     [5, 6, 7, 8],\n",
    "     [9, 10, 11, 12]]\n",
    "\n",
    "b =  [[1, 2, 3, 4],\n",
    "      [5, 6, 7, 8],\n",
    "      [9, 10, 11, 12]]\n",
    "\n",
    "matrix_A = np.array(a)\n",
    "matrix_B = np.array(b)\n",
    "\n",
    "print(\"Matrix_A: \\n\",matrix_A,\"\\n\\n\"\"Matrix_B: \\n\",matrix_B)\n",
    "\n",
    "\n",
    "#Indexed wise Multiplication\n",
    "multiMatrix = matrix_A * matrix_B\n",
    "print(\"\\nMultiplication by indexed : \\n\",multiMatrix)\n",
    "\n",
    "\n",
    "# Matrix Multipliction\n",
    "sqrmatrix_1 = matrix_A[0:3,0:3]   #For  matrix multiplication the shape of each matrix should be square.\n",
    "sqrmatrix_2 = matrix_B[0:3,0:3]\n",
    "print(\"\\nsqrmatrix_1: \\n\",sqrmatrix_1,\"\\n\\n\"\"sqrmatrix_2: \\n\",sqrmatrix_2)\n",
    "\n",
    "matricsMultiplication = sqrmatrix_1 @ sqrmatrix_2\n",
    "print(\"\\nMatrix Multiplication matrix : \\n\",matricsMultiplication)\n",
    "\n",
    "#.Add both the matric\n",
    "add_Matrix = matrix_A + matrix_B\n",
    "print(\"\\nAddition matrix : \\n\",add_Matrix)\n",
    "\n",
    "\n",
    "#Subtract matrix B from A\n",
    "sub_Matrix = matrix_B - matrix_A\n",
    "print(\"\\nSubstraction matrix : \\n\",sub_Matrix)\n",
    "\n",
    "#.Divide Matrix B by A.\n",
    "div_Matrix = matrix_B / matrix_A\n",
    "print(\"\\nDividation matrix : \\n\",div_Matrix)\n",
    "\n"
   ]
  },
  {
   "cell_type": "code",
   "execution_count": 55,
   "id": "1b8cf41d-e2b3-459e-8735-650c84fb07ab",
   "metadata": {},
   "outputs": [
    {
     "name": "stdout",
     "output_type": "stream",
     "text": [
      "Original array: [1 2 3 4]\n",
      "Swapped array: [ 72057594037927936 144115188075855872 216172782113783808\n",
      " 288230376151711744]\n"
     ]
    }
   ],
   "source": [
    "#12. Which function in Numpy can be used to swap the byte order of an array?\n",
    "\n",
    "\n",
    "# the byteswap() function is used to swap the byte order of an array\n",
    "\n",
    "import numpy as np\n",
    "\n",
    "\n",
    "original_array = np.array([1, 2, 3, 4])\n",
    "print(\"Original array:\", original_array)\n",
    "\n",
    "\n",
    "swapped_array = original_array.byteswap()\n",
    "print(\"Swapped array:\", swapped_array)\n",
    "\n",
    "\n",
    "\n",
    "\n",
    "\n"
   ]
  },
  {
   "cell_type": "code",
   "execution_count": 71,
   "id": "aefe2e74-91ef-4180-864b-24597eac9717",
   "metadata": {},
   "outputs": [
    {
     "name": "stdout",
     "output_type": "stream",
     "text": [
      "Original Array : \n",
      " [[1 2]\n",
      " [3 4]]\n",
      "Inverse Array : \n",
      " [[-2.   1. ]\n",
      " [ 1.5 -0.5]]\n",
      "Inverse Identity : \n",
      " [[-2.   2. ]\n",
      " [ 4.5 -2. ]]\n"
     ]
    }
   ],
   "source": [
    "#13.  What is the significance of the np.linalg.inv function?\n",
    "\n",
    "# Here lin (linear) + alg (algebra) = linalg\n",
    "# and the inv = inverse \n",
    "\n",
    "# So basically this function returns the inverse of matrix\n",
    "# so a is array and the inverse of array is denoted by a^(-1). and the indentity matrix will be a.a^(-1).\n",
    "\n",
    "\n",
    "#suppose:\n",
    "import numpy as np\n",
    "\n",
    "arr = np.array([[1,2],[3,4]])\n",
    "\n",
    "inversearr = np.linalg.inv(arr)\n",
    "\n",
    "print(\"Original Array : \\n\",arr)\n",
    "print(\"Inverse Array : \\n\",inversearr)\n",
    "\n",
    "# Inverse indentity \n",
    "print(\"Inverse Identity : \\n\",arr*inversearr)\n"
   ]
  },
  {
   "cell_type": "code",
   "execution_count": 68,
   "id": "78c8ccad-d162-49f3-98cd-09254960b4a6",
   "metadata": {},
   "outputs": [
    {
     "name": "stdout",
     "output_type": "stream",
     "text": [
      "Original Array:\n",
      " [1 2 3 4 5 6]\n",
      "\n",
      "Reshaped Array:\n",
      " [[1 2 3]\n",
      " [4 5 6]]\n"
     ]
    }
   ],
   "source": [
    "#14. What does the np.reshape function do, and how is it used?\n",
    "\n",
    "# The np.reshape function in NumPy is used to change the shape of an array without changing its data. \n",
    "# It returns a new array with the same data but a different shape.\n",
    "\n",
    "\n",
    "import numpy as np\n",
    "\n",
    "original_array = np.array([1, 2, 3, 4, 5, 6])\n",
    "\n",
    "\n",
    "reshaped_array = np.reshape(original_array, (2, 3))\n",
    "\n",
    "print(\"Original Array:\\n\",original_array)\n",
    "\n",
    "\n",
    "print(\"\\nReshaped Array:\\n\",reshaped_array)\n",
    "\n",
    "\n"
   ]
  },
  {
   "cell_type": "code",
   "execution_count": 70,
   "id": "0e788daa-7c28-4472-9b4a-57fe616bfbde",
   "metadata": {},
   "outputs": [
    {
     "name": "stdout",
     "output_type": "stream",
     "text": [
      "Matrix A:\n",
      "[[1 2 3]\n",
      " [4 5 6]]\n",
      "\n",
      "Row Addition:\n",
      "[10 20 30]\n",
      "\n",
      "Result after Broadcasting:\n",
      "[[11 22 33]\n",
      " [14 25 36]]\n"
     ]
    }
   ],
   "source": [
    "#15. What is broadcasting in Numpy?\n",
    "\n",
    "# Broadcasting in numpy is powerful mechanism which allows perform the operation between two matrix of different shapes. \n",
    "# That performs the operations elementwise.\n",
    "\n",
    "\n",
    "import numpy as np\n",
    "\n",
    "\n",
    "matrix_A = np.array([[1, 2, 3],\n",
    "                     [4, 5, 6]])\n",
    "\n",
    "\n",
    "\n",
    "row_addition = np.array([10, 20, 30])\n",
    "\n",
    "result = matrix_A + row_addition\n",
    "\n",
    "print(\"Matrix A:\")\n",
    "print(matrix_A)\n",
    "\n",
    "print(\"\\nRow Addition:\")\n",
    "print(row_addition)\n",
    "\n",
    "print(\"\\nResult after Broadcasting:\")\n",
    "print(result)\n",
    "\n",
    "\n"
   ]
  },
  {
   "cell_type": "code",
   "execution_count": null,
   "id": "366ba332-8fb5-4615-9303-9a0edb238695",
   "metadata": {},
   "outputs": [],
   "source": []
  },
  {
   "cell_type": "code",
   "execution_count": null,
   "id": "21c6ba13-9215-4f3b-9faf-0cf39c53bf3b",
   "metadata": {},
   "outputs": [],
   "source": []
  }
 ],
 "metadata": {
  "kernelspec": {
   "display_name": "Python 3 (ipykernel)",
   "language": "python",
   "name": "python3"
  },
  "language_info": {
   "codemirror_mode": {
    "name": "ipython",
    "version": 3
   },
   "file_extension": ".py",
   "mimetype": "text/x-python",
   "name": "python",
   "nbconvert_exporter": "python",
   "pygments_lexer": "ipython3",
   "version": "3.10.8"
  }
 },
 "nbformat": 4,
 "nbformat_minor": 5
}
